{
 "cells": [
  {
   "cell_type": "code",
   "execution_count": 3,
   "metadata": {},
   "outputs": [
    {
     "name": "stderr",
     "output_type": "stream",
     "text": [
      "┌ Info: Loading DataFrames support into Gadfly.jl\n",
      "└ @ Gadfly C:\\Users\\leope\\.julia\\packages\\Gadfly\\09PWZ\\src\\mapping.jl:228\n"
     ]
    },
    {
     "data": {
      "text/plain": [
       "_afp_compute_energy (generic function with 1 method)"
      ]
     },
     "execution_count": 3,
     "metadata": {},
     "output_type": "execute_result"
    }
   ],
   "source": [
    "include(\"utils.jl\")\n",
    "include(\"replicated_AP.jl\")"
   ]
  },
  {
   "cell_type": "markdown",
   "metadata": {},
   "source": [
    "# Loading Data"
   ]
  },
  {
   "cell_type": "markdown",
   "metadata": {},
   "source": [
    "PATH to dataset folder - datasets can be downloaded @  https://drive.google.com/open?id=1N8MdN_x-j2wV35h6xrDaajqRGa5C1LYj\n",
    "\n",
    "Folder Structure is in listing.txt file"
   ]
  },
  {
   "cell_type": "code",
   "execution_count": 4,
   "metadata": {},
   "outputs": [],
   "source": [
    "main_folder = \"C:/Users/leope/Google Drive/EPFL/Tesi/modified_AP/datasets/\";"
   ]
  },
  {
   "cell_type": "markdown",
   "metadata": {},
   "source": [
    "Flights"
   ]
  },
  {
   "cell_type": "code",
   "execution_count": null,
   "metadata": {},
   "outputs": [],
   "source": [
    "folder = \"/detecting_cities\"\n",
    "\n",
    "similarities = readdlm(main_folder * folder * \"/similarities.csv\")\n",
    "coordinates = readdlm(main_folder * folder * \"/coordinates.csv\");"
   ]
  },
  {
   "cell_type": "code",
   "execution_count": null,
   "metadata": {},
   "outputs": [],
   "source": [
    "S = list2matrix(similarities, [-4500.0]);"
   ]
  },
  {
   "cell_type": "markdown",
   "metadata": {},
   "source": [
    "Docs, summarization"
   ]
  },
  {
   "cell_type": "code",
   "execution_count": null,
   "metadata": {},
   "outputs": [],
   "source": [
    "folder = \"/doc_summarization\"\n",
    "\n",
    "similarities = readdlm(main_folder * folder * \"/DocumentSummarizationSimilarities.txt\")\n",
    "preferences = readdlm(main_folder *  folder * \"/DocumentSummarizationPreferences.txt\")[:,1];"
   ]
  },
  {
   "cell_type": "code",
   "execution_count": null,
   "metadata": {},
   "outputs": [],
   "source": [
    "S = list2matrix(similarities, preferences);"
   ]
  },
  {
   "cell_type": "markdown",
   "metadata": {},
   "source": [
    "G2"
   ]
  },
  {
   "cell_type": "code",
   "execution_count": null,
   "metadata": {},
   "outputs": [],
   "source": [
    "folder = \"/g2\"\n",
    "filename = \"/g2-2-40\"\n",
    "\n",
    "S, true_assignments, D = eucledian_space2similarities(main_folder, folder, filename; subset_size=1024, \n",
    "        lambda=-200.0, partitioning_flag=true);"
   ]
  },
  {
   "cell_type": "markdown",
   "metadata": {},
   "source": [
    "DIM-sets"
   ]
  },
  {
   "cell_type": "code",
   "execution_count": null,
   "metadata": {},
   "outputs": [],
   "source": [
    "folder = \"/DIM-sets\"\n",
    "filename = \"/dim128\"\n",
    "\n",
    "S, D = eucledian_space2similarities(main_folder, folder, filename);"
   ]
  },
  {
   "cell_type": "markdown",
   "metadata": {},
   "source": [
    "# AP, rAP single run "
   ]
  },
  {
   "cell_type": "markdown",
   "metadata": {},
   "source": [
    "Step number and messages average values are printed. \n",
    "era per controllare eventuali divergenze o messaggi che vanno a zero..."
   ]
  },
  {
   "cell_type": "code",
   "execution_count": null,
   "metadata": {},
   "outputs": [],
   "source": [
    "@time sol_AP = affinityprop_mod(S, damp=0.8, maxiter=200, run_vanilla=true)"
   ]
  },
  {
   "cell_type": "code",
   "execution_count": null,
   "metadata": {},
   "outputs": [],
   "source": [
    "@time sol_AP_mod = affinityprop_mod(S, damp=0.8, maxiter=200, y=10.0, γ=1.0, γfact=1.01, run_vanilla=false)"
   ]
  },
  {
   "cell_type": "markdown",
   "metadata": {},
   "source": [
    "# Experiments for different datasets and values of parameters"
   ]
  },
  {
   "cell_type": "markdown",
   "metadata": {},
   "source": [
    "All results are stored in a dataframe for each dataset considered in order to do plots and analysis"
   ]
  },
  {
   "cell_type": "code",
   "execution_count": null,
   "metadata": {},
   "outputs": [],
   "source": [
    "##### Parameters #####\n",
    "\n",
    "N = size(S)[1]\n",
    "\n",
    "damp=0.8\n",
    "y=10.0\n",
    "γ=0.5\n",
    "γfact=1.01\n",
    "\n",
    "repetitions = 100\n",
    "\n",
    "partitions_flag = true\n",
    "\n",
    "dataframe_path = \"./results_dataframes\" * filename * \".csv\"\n",
    "\n",
    "# Varying parameters #\n",
    "\n",
    "damping = [0.8]\n",
    "γ_list = [(0.5,1.1), (.1,1.05), (.5,1.05), (1.0,1.05)]\n",
    "\n",
    "# ------------------ #\n",
    "\n",
    "if isfile(dataframe_path)\n",
    "    df = CSV.read(dataframe_path)\n",
    "else\n",
    "    df = DataFrame(Algo = String[], Energy = Float64[], Damp = Float64[], y = Float64[], γ = Float64[], γfact = Float64[],\n",
    "            D = Int[], N = Int[], Assignments = Float64[])\n",
    "end\n",
    "\n",
    "for (γ, γfact) in γ_list\n",
    "    for damp in damping\n",
    "        for rep in 1:repetitions\n",
    "            println(\"repetition \", rep, \"/\", repetitions)\n",
    "            @time sol_AP = affinityprop_mod(S, damp=damp, maxiter=200, run_vanilla=true)\n",
    "            @time sol_AP_mod = affinityprop_mod(S, damp=damp, maxiter=200, y=y, γ=γ, γfact=γfact, run_vanilla=false)\n",
    "\n",
    "            if partitions_flag\n",
    "                temp1 = mean(sol_AP.assignments .== true_assignments)\n",
    "                temp1 = max.(1 .- temp1, temp1)\n",
    "\n",
    "                temp2 = mean(sol_AP_mod.assignments .== true_assignments)\n",
    "                temp2 = max.(1 .- temp2, temp2)\n",
    "            else\n",
    "                temp1, temp2 = nothing, nothing\n",
    "            end\n",
    "\n",
    "            push!(df, [\"AP\", sol_AP.energy / N, damp, -1.0, -1.0, -1.0, D, N, temp1])\n",
    "            push!(df, [\"rAP\", sol_AP_mod.energy / N, damp, y, γ, γfact, D, N, temp2])\n",
    "        end\n",
    "        CSV.write(dataframe_path, df);\n",
    "    end\n",
    "end"
   ]
  },
  {
   "cell_type": "markdown",
   "metadata": {},
   "source": [
    "# Plotting"
   ]
  },
  {
   "cell_type": "markdown",
   "metadata": {},
   "source": [
    "to be arranged case to case"
   ]
  },
  {
   "cell_type": "code",
   "execution_count": 10,
   "metadata": {},
   "outputs": [],
   "source": [
    "filename = \"/g2-2-40\"\n",
    "df = CSV.read(\"./results_dataframes\" * filename * \".csv\");"
   ]
  },
  {
   "cell_type": "code",
   "execution_count": 13,
   "metadata": {},
   "outputs": [],
   "source": [
    "add_legend_column_to_df!(df);"
   ]
  },
  {
   "cell_type": "code",
   "execution_count": 17,
   "metadata": {},
   "outputs": [
    {
     "data": {
      "text/plain": [
       "Set(Union{Missing, Int64}[1024, 1000, 220, 200])"
      ]
     },
     "execution_count": 17,
     "metadata": {},
     "output_type": "execute_result"
    }
   ],
   "source": [
    "Set(df.N)"
   ]
  },
  {
   "cell_type": "code",
   "execution_count": 20,
   "metadata": {},
   "outputs": [],
   "source": [
    "# Filter the dataframe for plotting\n",
    "N = 1024\n",
    "df_plot = df[(df.N .== N) ,:]; #.& (df.Damp .== 0.8)"
   ]
  },
  {
   "cell_type": "code",
   "execution_count": 21,
   "metadata": {},
   "outputs": [],
   "source": [
    "pofE = Gadfly.plot(df_plot, x=:Energy, \n",
    "    color=:Legend, Geom.density(bandwidth=0.0033), #Geom.histogram(bincount=20,density=true, position=:dodge), #33 7000\n",
    "    #Coord.Cartesian(xmin=.72,xmax=.74),  \n",
    "    #Coord.Cartesian(xmin=.4,xmax=3),\n",
    "    #Coord.Cartesian(xmin=.031,xmax=0.032),\n",
    "\n",
    "    #Scale.y_log10,\n",
    "    Guide.xlabel(\"Energy density (per datapoint)\"), Guide.ylabel(\"pdf\"),\n",
    "    Guide.title(\"Energy distribution @ convergence for $filename\\n\n",
    "                    Sub-sample of $N points out of 2048.\"))\n",
    "#     Guide.title(format(\"Energy distribution of AP after convergence for random message initialization \\n \n",
    "#                 Dataset: D={:d}, N={:d} and k=16 \\n\n",
    "#                 Params: damp={:.1f}, y={:.1f}, γ={:.4f}, γfact={:.3f}\\n\n",
    "#                 Initializations are random in [-0.01,0]\", D, N, damp, y, γ, γfact)),\n",
    "\n",
    "draw(PDF(format(\"./figures/AP_vs_rAP_accuracy_histogram_{:d}subset_{:s}.pdf\", N, replace(filename, \"/\" => \"\")), 800px, 400px), pofE)"
   ]
  },
  {
   "cell_type": "code",
   "execution_count": null,
   "metadata": {},
   "outputs": [],
   "source": []
  },
  {
   "cell_type": "code",
   "execution_count": null,
   "metadata": {},
   "outputs": [],
   "source": []
  }
 ],
 "metadata": {
  "kernelspec": {
   "display_name": "Julia 1.1.0",
   "language": "julia",
   "name": "julia-1.1"
  },
  "language_info": {
   "file_extension": ".jl",
   "mimetype": "application/julia",
   "name": "julia",
   "version": "1.1.0"
  }
 },
 "nbformat": 4,
 "nbformat_minor": 2
}

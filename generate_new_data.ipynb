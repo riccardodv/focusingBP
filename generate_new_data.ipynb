{
 "cells": [
  {
   "cell_type": "code",
   "execution_count": 24,
   "metadata": {},
   "outputs": [
    {
     "name": "stderr",
     "output_type": "stream",
     "text": [
      "WARNING: replacing module APBP.\n"
     ]
    },
    {
     "data": {
      "text/plain": [
       "Main.APBP"
      ]
     },
     "execution_count": 24,
     "metadata": {},
     "output_type": "execute_result"
    }
   ],
   "source": [
    "include(\"apbp.jl\")"
   ]
  },
  {
   "cell_type": "code",
   "execution_count": 35,
   "metadata": {},
   "outputs": [
    {
     "name": "stderr",
     "output_type": "stream",
     "text": [
      "WARNING: using Clustering.varinfo in module Main conflicts with an existing identifier.\n"
     ]
    }
   ],
   "source": [
    "using Clustering"
   ]
  },
  {
   "cell_type": "code",
   "execution_count": 29,
   "metadata": {},
   "outputs": [
    {
     "data": {
      "text/plain": [
       "1×2048 Array{Float64,2}:\n",
       " 505.0  485.0  501.0  501.0  508.0  …  609.0  612.0  604.0  602.0  601.0"
      ]
     },
     "execution_count": 29,
     "metadata": {},
     "output_type": "execute_result"
    }
   ],
   "source": [
    "using DelimitedFiles\n",
    "data_g2_1_40 = readdlm(\"./g2-txt/g2-1-10.txt\")\n",
    "data_g2_1_40 = data_g2_1_40'[:,:]"
   ]
  },
  {
   "cell_type": "code",
   "execution_count": 32,
   "metadata": {
    "scrolled": true
   },
   "outputs": [
    {
     "ename": "InterruptException",
     "evalue": "InterruptException:",
     "output_type": "error",
     "traceback": [
      "InterruptException:",
      "",
      "Stacktrace:",
      " [1] oneFBPstep!(::Main.APBP.FMessages, ::Array{Float64,2}, ::Float64, ::Float64, ::Float64, ::Float64) at /Users/riccardodellavecchia/.julia/packages/ExtractMacro/Wcrsk/src/ExtractMacro.jl:73",
      " [2] #runFBP#9(::Int64, ::Float64, ::Float64, ::Float64, ::Nothing, ::Float64, ::Int64, ::Int64, ::typeof(Main.APBP.runFBP), ::Array{Float64,2}, ::Float64, ::Float64) at /Users/riccardodellavecchia/Google Drive/DottoratoBocconi/TesiDottorato/clustering_fBP/program/focusingaffinitypropagation/apbp.jl:104",
      " [3] runFBP(::Array{Float64,2}, ::Float64, ::Float64) at /Users/riccardodellavecchia/Google Drive/DottoratoBocconi/TesiDottorato/clustering_fBP/program/focusingaffinitypropagation/apbp.jl:92",
      " [4] top-level scope at In[32]:1"
     ]
    }
   ],
   "source": [
    "function standardize_data!(M)\n",
    "    [M[i,j] = (M[i,j]-mean(M[i,:]))/std(M[i,:]) for i in 1:size(M)[1] \n",
    "            for j in 1:size(M)[2]]\n",
    "end\n",
    "    \n",
    "APBP.compute_similarities(data_g2_1_40)"
   ]
  },
  {
   "cell_type": "code",
   "execution_count": 34,
   "metadata": {},
   "outputs": [
    {
     "name": "stdout",
     "output_type": "stream",
     "text": [
      "ciao\n"
     ]
    }
   ],
   "source": [
    "println(\"ciao\")"
   ]
  },
  {
   "cell_type": "code",
   "execution_count": null,
   "metadata": {},
   "outputs": [],
   "source": []
  }
 ],
 "metadata": {
  "kernelspec": {
   "display_name": "Julia 1.0.1",
   "language": "julia",
   "name": "julia-1.0"
  },
  "language_info": {
   "file_extension": ".jl",
   "mimetype": "application/julia",
   "name": "julia",
   "version": "1.0.1"
  }
 },
 "nbformat": 4,
 "nbformat_minor": 2
}
